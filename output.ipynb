{
 "cells": [
  {
   "cell_type": "code",
   "execution_count": 1,
   "id": "ed36a07d-eec7-4e36-ad7b-adbc6540f399",
   "metadata": {},
   "outputs": [],
   "source": [
    "SEGMENT_SIZE=2**18\n",
    "IN_TEMP='temp.data'\n",
    "IN_COMPRESSED='baby-elephant-walk-1.0.jamm'\n",
    "OUT_AUDIO='baby-elephant-walk-1.0.wav'"
   ]
  },
  {
   "cell_type": "code",
   "execution_count": 2,
   "id": "a101331b-4c85-43eb-b231-955dbc0c1092",
   "metadata": {},
   "outputs": [],
   "source": [
    "import zipfile\n",
    "import scipy.io.wavfile\n",
    "import scipy.fft\n",
    "import numpy as np\n",
    "import pickle\n",
    "\n",
    "def load_compressed_zip():\n",
    "    with zipfile.ZipFile(IN_COMPRESSED, 'r') as zip:\n",
    "        with zip.open(IN_TEMP, 'r') as infile:\n",
    "            text = infile.read().decode(\"utf-8\")\n",
    "            return text\n",
    "        \n",
    "def load_compressed():\n",
    "    with zipfile.ZipFile(IN_COMPRESSED, 'r') as zip:\n",
    "        return pickle.load(zip.open(IN_TEMP, 'r'))\n",
    "        \n",
    "def write_audio_from_terms_text(text):\n",
    "    lines = text.split('\\n')\n",
    "    rate = int(lines[0])\n",
    "    \n",
    "    terms = []\n",
    "    for line in lines[1:]:\n",
    "        if line.startswith('x'):\n",
    "            count = int(line[1:])\n",
    "            for i in range(count):\n",
    "                terms.append(0)\n",
    "        elif line:\n",
    "            tokens = line.split(' ')\n",
    "            terms.append(complex(float(tokens[0]), float(tokens[1])))\n",
    "    \n",
    "    inverted = scipy.fft.ifft(terms)\n",
    "    scipy.io.wavfile.write(OUT_AUDIO, rate, np.array([item / rate for item in inverted], float))\n",
    "    \n",
    "    \n",
    "def write_audio_from_terms(lines):\n",
    "    rate = lines[0]\n",
    "    \n",
    "    terms = []\n",
    "    for line in lines[1:]:\n",
    "        if type(line) is int:\n",
    "            for i in range(line):\n",
    "                terms.append(0)\n",
    "        elif len(line) == 2:\n",
    "            terms.append(complex(line[0], line[1]))\n",
    "    \n",
    "    inverted = scipy.fft.ifft(terms)\n",
    "    scipy.io.wavfile.write(OUT_AUDIO, rate, np.array([item.real / rate for item in inverted], float))\n",
    "    \n",
    "write_audio_from_terms(load_compressed())"
   ]
  },
  {
   "cell_type": "code",
   "execution_count": null,
   "id": "80244725-c0ea-4da2-a006-9d6d98fc0fde",
   "metadata": {},
   "outputs": [],
   "source": []
  },
  {
   "cell_type": "code",
   "execution_count": null,
   "id": "58442f18-86a5-440f-84b4-32d5773b4f11",
   "metadata": {},
   "outputs": [],
   "source": []
  }
 ],
 "metadata": {
  "kernelspec": {
   "display_name": "Python 3 (ipykernel)",
   "language": "python",
   "name": "python3"
  },
  "language_info": {
   "codemirror_mode": {
    "name": "ipython",
    "version": 3
   },
   "file_extension": ".py",
   "mimetype": "text/x-python",
   "name": "python",
   "nbconvert_exporter": "python",
   "pygments_lexer": "ipython3",
   "version": "3.9.7"
  }
 },
 "nbformat": 4,
 "nbformat_minor": 5
}
